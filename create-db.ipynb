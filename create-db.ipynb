{
 "cells": [
  {
   "cell_type": "code",
   "execution_count": 20,
   "metadata": {},
   "outputs": [
    {
     "data": {
      "text/plain": [
       "Database(MongoClient(host=['localhost:27017'], document_class=dict, tz_aware=False, connect=True), 'Tarea')"
      ]
     },
     "execution_count": 20,
     "metadata": {},
     "output_type": "execute_result"
    }
   ],
   "source": [
    "import pymongo\n",
    "from pprint import pprint\n",
    "from pymongo import MongoClient\n",
    "\n",
    "myclient = pymongo.MongoClient('localhost',27017)\n",
    "\n",
    "mydb = myclient[\"Tarea\"]\n",
    "mydb"
   ]
  },
  {
   "cell_type": "code",
   "execution_count": 35,
   "metadata": {},
   "outputs": [
    {
     "name": "stdout",
     "output_type": "stream",
     "text": [
      "['Tarea', 'admin', 'config', 'local']\n"
     ]
    }
   ],
   "source": [
    "#Verifica si la database existe\n",
    "print(myclient.list_database_names())\n",
    "\n",
    "dblist = myclient.list_database_names()\n",
    "if \"tarea\" in dblist:\n",
    "  print(\"La database existe.\")"
   ]
  },
  {
   "cell_type": "code",
   "execution_count": 36,
   "metadata": {},
   "outputs": [
    {
     "name": "stdout",
     "output_type": "stream",
     "text": [
      "['archivos']\n"
     ]
    }
   ],
   "source": [
    "#Crea colección\n",
    "mycol = mydb[\"archivos\"]\n",
    "print(mydb.list_collection_names())"
   ]
  },
  {
   "cell_type": "code",
   "execution_count": 37,
   "metadata": {},
   "outputs": [
    {
     "name": "stdout",
     "output_type": "stream",
     "text": [
      "La colección existe.\n"
     ]
    }
   ],
   "source": [
    "#Verifica si las colecciones existen\n",
    "collist = mydb.list_collection_names()\n",
    "if \"archivos\" in collist:\n",
    "  print(\"La colección existe.\")"
   ]
  },
  {
   "cell_type": "code",
   "execution_count": 57,
   "metadata": {},
   "outputs": [],
   "source": [
    "#########\n",
    "archivos1 = {\n",
    "    \"_id\":1,\n",
    "    \"fecha\":\"20/07/2021\",\n",
    "    \"ciudad\":\"Valdivia\",\n",
    "    \"URL\":\"1\",\n",
    "    \"latitud\":-39.82435,\n",
    "    \"longitud\":-73.24589,\n",
    "    \"duracion\":\"20 segundos\",\n",
    "    \"formato\":\".wav\",\n",
    "    \"exterior\":\"Si\",\n",
    "    \"tipo_fuente\":\"animales\",\n",
    "    \"usuario\":\n",
    "    {\n",
    "        \"RUT\":\"16.795.344-1\",\n",
    "        \"nombre\":\"Gary\",\n",
    "        \"apellido\":\"Medel\",\n",
    "    },\n",
    "    \"segmentos\": [\n",
    "        {\n",
    "            \"ID\":11,\n",
    "            \"formato\":\".wav\",\n",
    "            \"duracion\":\"10 segundos\",\n",
    "            \"inicio\":\"0 segundos\",\n",
    "            \"fin\":\"10 segundos\",\n",
    "            \"etiquetas\": [ \n",
    "                {\n",
    "                    \"descripcion\":\"descripcion de prueba numero 1\",\n",
    "                    \"ID_analizador\":1\n",
    "                },\n",
    "                {\n",
    "                    \"descripcion\":\"descripcion de prueba numero 2\",\n",
    "                    \"ID_analizador\":2\n",
    "                }\n",
    "            ]\n",
    "        },\n",
    "        {\n",
    "            \"ID\": 12,\n",
    "            \"formato\":\".wav\",\n",
    "            \"duración\":\"10 segundos\",\n",
    "            \"inicio\":\"10 segundos\",\n",
    "            \"fin\":\"20 segundos\",\n",
    "            \"etiquetas\": [ \n",
    "                {\n",
    "                    \"descripcion\":\"descripcion de prueba numero 3\",\n",
    "                    \"ID_analizador\":1\n",
    "                },\n",
    "                {\n",
    "                    \"descripcion\":\"descripcion de prueba numero 4\",\n",
    "                    \"ID_analizador\":2\n",
    "                }\n",
    "            ]\n",
    "        }\n",
    "    ]\n",
    "}\n",
    "\n",
    "#########\n",
    "archivos2 = {\n",
    "    \"_id\":2,\n",
    "    \"fecha\":\"25/06/2021\",\n",
    "    \"ciudad\":\"Valdivia\",\n",
    "    \"URL\":\"2\",\n",
    "    \"latitud\":-39.83168638,\n",
    "    \"longitud\":-73.2370306,\n",
    "    \"duracion\":\"14 segundos\",\n",
    "    \"formato\": \".wav\",\n",
    "    \"exterior\": \"Sí\",\n",
    "    \"tipo_fuente\":\"mecanico\",\n",
    "    \"usuario\":\n",
    "    {\n",
    "        \"RUT\":\"16.927.586-6\",\n",
    "        \"nombre\":\"Alexis\",\n",
    "        \"apellido\":\"Sanchez\",\n",
    "    },\n",
    "    \"segmentos\":[\n",
    "        {\n",
    "            \"ID\":21,\n",
    "            \"formato\":\".wav\",\n",
    "            \"duracion\":\"7 segundos\",\n",
    "            \"inicio\":\"0 segundos\",\n",
    "            \"fin\":\"7 segundos\",\n",
    "            \"etiquetas\": [ \n",
    "                {\n",
    "                    \"descripcion\":\"descripcion de prueba numero 5\",\n",
    "                    \"ID_analizador\":1\n",
    "                },\n",
    "                {\n",
    "                    \"descripcion\":\"descripcion de prueba numero 6\",\n",
    "                    \"ID_analizador\":2\n",
    "                }\n",
    "            ]\n",
    "        },\n",
    "        {\n",
    "            \"ID\": 22,\n",
    "            \"formato\":\".wav\",\n",
    "            \"duracion\":\"7 segundos\",\n",
    "            \"inicio\":\"7 segundos\",\n",
    "            \"fin\":\"14 segundos\",\n",
    "            \"etiquetas\": [ \n",
    "                {\n",
    "                    \"descripcion\":\"descripcion de prueba numero 7\",\n",
    "                    \"ID_analizador\":1\n",
    "                },\n",
    "                {\n",
    "                    \"descripcion\":\"descripcion de prueba numero 8\",\n",
    "                    \"ID_analizador\":2\n",
    "                }\n",
    "            ]\n",
    "        }\n",
    "    ]\n",
    "}"
   ]
  },
  {
   "cell_type": "code",
   "execution_count": 58,
   "metadata": {},
   "outputs": [],
   "source": [
    "mycol.drop()"
   ]
  },
  {
   "cell_type": "code",
   "execution_count": 59,
   "metadata": {},
   "outputs": [],
   "source": [
    "x = mycol.insert_one(archivos1)\n",
    "y = mycol.insert_one(archivos2)"
   ]
  },
  {
   "cell_type": "code",
   "execution_count": 62,
   "metadata": {
    "scrolled": false
   },
   "outputs": [
    {
     "name": "stdout",
     "output_type": "stream",
     "text": [
      "{'URL': 'sonido1.wav',\n",
      " '_id': 1,\n",
      " 'ciudad': 'Valdivia',\n",
      " 'duracion': '20 segundos',\n",
      " 'exterior': 'Si',\n",
      " 'fecha': '20/07/2021',\n",
      " 'formato': '.wav',\n",
      " 'latitud': -39.82435,\n",
      " 'longitud': -73.24589,\n",
      " 'segmentos': [{'ID': 11,\n",
      "                'duracion': '10 segundos',\n",
      "                'etiquetas': [{'ID_analizador': 1,\n",
      "                               'descripcion': 'descripcion de prueba numero 1'},\n",
      "                              {'ID_analizador': 2,\n",
      "                               'descripcion': 'descripcion de prueba numero '\n",
      "                                              '2'}],\n",
      "                'fin': '10 segundos',\n",
      "                'formato': '.wav',\n",
      "                'inicio': '0 segundos'},\n",
      "               {'ID': 12,\n",
      "                'duración': '10 segundos',\n",
      "                'etiquetas': [{'ID_analizador': 1,\n",
      "                               'descripcion': 'descripcion de prueba numero 3'},\n",
      "                              {'ID_analizador': 2,\n",
      "                               'descripcion': 'descripcion de prueba numero '\n",
      "                                              '4'}],\n",
      "                'fin': '20 segundos',\n",
      "                'formato': '.wav',\n",
      "                'inicio': '10 segundos'}],\n",
      " 'tipo_fuente': 'animales',\n",
      " 'usuario': {'RUT': '16.795.344-1', 'apellido': 'Medel', 'nombre': 'Gary'}}\n",
      "{'URL': 'sonido2.wav',\n",
      " '_id': 2,\n",
      " 'ciudad': 'Valdivia',\n",
      " 'duracion': '14 segundos',\n",
      " 'exterior': 'Sí',\n",
      " 'fecha': '25/06/2021',\n",
      " 'formato': '.wav',\n",
      " 'latitud': -39.83168638,\n",
      " 'longitud': -73.2370306,\n",
      " 'segmentos': [{'ID': 21,\n",
      "                'duracion': '7 segundos',\n",
      "                'etiquetas': [{'ID_analizador': 1,\n",
      "                               'descripcion': 'descripcion de prueba numero 5'},\n",
      "                              {'ID_analizador': 2,\n",
      "                               'descripcion': 'descripcion de prueba numero '\n",
      "                                              '6'}],\n",
      "                'fin': '7 segundos',\n",
      "                'formato': '.wav',\n",
      "                'inicio': '0 segundos'},\n",
      "               {'ID': 22,\n",
      "                'duracion': '7 segundos',\n",
      "                'etiquetas': [{'ID_analizador': 1,\n",
      "                               'descripcion': 'descripcion de prueba numero 7'},\n",
      "                              {'ID_analizador': 2,\n",
      "                               'descripcion': 'descripcion de prueba numero '\n",
      "                                              '8'}],\n",
      "                'fin': '14 segundos',\n",
      "                'formato': '.wav',\n",
      "                'inicio': '7 segundos'}],\n",
      " 'tipo_fuente': 'mecanico',\n",
      " 'usuario': {'RUT': '16.927.586-6', 'apellido': 'Sanchez', 'nombre': 'Alexis'}}\n"
     ]
    }
   ],
   "source": [
    "from pprint import pprint\n",
    "\n",
    "for x in mycol.find():\n",
    "  pprint(x)"
   ]
  },
  {
   "cell_type": "code",
   "execution_count": null,
   "metadata": {},
   "outputs": [],
   "source": []
  }
 ],
 "metadata": {
  "kernelspec": {
   "display_name": "Python 3",
   "language": "python",
   "name": "python3"
  },
  "language_info": {
   "codemirror_mode": {
    "name": "ipython",
    "version": 3
   },
   "file_extension": ".py",
   "mimetype": "text/x-python",
   "name": "python",
   "nbconvert_exporter": "python",
   "pygments_lexer": "ipython3",
   "version": "3.8.5"
  }
 },
 "nbformat": 4,
 "nbformat_minor": 4
}
