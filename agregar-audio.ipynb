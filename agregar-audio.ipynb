{
 "cells": [
  {
   "cell_type": "code",
   "execution_count": 1,
   "metadata": {},
   "outputs": [
    {
     "data": {
      "text/plain": [
       "Database(MongoClient(host=['localhost:27017'], document_class=dict, tz_aware=False, connect=True), 'Tarea')"
      ]
     },
     "execution_count": 1,
     "metadata": {},
     "output_type": "execute_result"
    }
   ],
   "source": [
    "import pymongo\n",
    "from pprint import pprint\n",
    "from pymongo import MongoClient\n",
    "\n",
    "myclient = pymongo.MongoClient('localhost',27017)\n",
    "\n",
    "mydb = myclient[\"Tarea\"]\n",
    "mydb"
   ]
  },
  {
   "cell_type": "code",
   "execution_count": 26,
   "metadata": {},
   "outputs": [
    {
     "name": "stdout",
     "output_type": "stream",
     "text": [
      "['Tarea', 'admin', 'config', 'local']\n"
     ]
    }
   ],
   "source": [
    "#Verifica si la database existe\n",
    "print(myclient.list_database_names())\n",
    "\n",
    "dblist = myclient.list_database_names()\n",
    "if \"tarea\" in dblist:\n",
    "  print(\"La database existe.\")"
   ]
  },
  {
   "cell_type": "code",
   "execution_count": 27,
   "metadata": {},
   "outputs": [
    {
     "name": "stdout",
     "output_type": "stream",
     "text": [
      "['archivos']\n"
     ]
    }
   ],
   "source": [
    "#Crea colección\n",
    "mycol = mydb[\"archivos\"]\n",
    "print(mydb.list_collection_names())"
   ]
  },
  {
   "cell_type": "code",
   "execution_count": 28,
   "metadata": {},
   "outputs": [
    {
     "name": "stdout",
     "output_type": "stream",
     "text": [
      "La colección existe.\n"
     ]
    }
   ],
   "source": [
    "#Verifica si las colecciones existen\n",
    "collist = mydb.list_collection_names()\n",
    "if \"archivos\" in collist:\n",
    "  print(\"La colección existe.\")"
   ]
  },
  {
   "cell_type": "code",
   "execution_count": null,
   "metadata": {},
   "outputs": [
    {
     "data": {
      "text/plain": [
       "<pymongo.results.UpdateResult at 0x20af2feed40>"
      ]
     },
     "execution_count": 29,
     "metadata": {},
     "output_type": "execute_result"
    }
   ],
   "source": [
    "wav1 = \"audio1.wav\"\n",
    "wav2 = \"audio2.wav\"\n",
    "\n",
    "myquery1 = { \"URL\": \"1\" }\n",
    "newvalues1 = { \"$set\": { \"URL\": wav1 } }\n",
    "mycol.update_one(myquery1, newvalues1)\n",
    "\n",
    "\n",
    "myquery2 = { \"URL\": \"2\" }\n",
    "newvalues2 = { \"$set\": { \"URL\": wav2 } }\n",
    "mycol.update_one(myquery2, newvalues2)"
   ]
  }
 ],
 "metadata": {
  "kernelspec": {
   "display_name": "Python 3",
   "language": "python",
   "name": "python3"
  },
  "language_info": {
   "codemirror_mode": {
    "name": "ipython",
    "version": 3
   },
   "file_extension": ".py",
   "mimetype": "text/x-python",
   "name": "python",
   "nbconvert_exporter": "python",
   "pygments_lexer": "ipython3",
   "version": "3.8.5"
  }
 },
 "nbformat": 4,
 "nbformat_minor": 4
}
